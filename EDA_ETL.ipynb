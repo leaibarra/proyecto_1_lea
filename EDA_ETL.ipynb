{
 "cells": [
  {
   "cell_type": "markdown",
   "metadata": {},
   "source": [
    "# PROYECTO 1"
   ]
  },
  {
   "cell_type": "markdown",
   "metadata": {},
   "source": [
    "IMPORTAMOS LIBRERIAS"
   ]
  },
  {
   "cell_type": "code",
   "execution_count": 2,
   "metadata": {},
   "outputs": [],
   "source": [
    "import pandas as pd\n",
    "import numpy as np\n",
    "import json"
   ]
  },
  {
   "cell_type": "markdown",
   "metadata": {},
   "source": [
    "# CARGA DE DATOS."
   ]
  },
  {
   "cell_type": "code",
   "execution_count": 3,
   "metadata": {},
   "outputs": [],
   "source": [
    "# Funcion que carga un archivo JSON con líneas que contienen objetos JSON o diccionarios\n",
    "\n",
    "def cargar_json(archivo):\n",
    "\n",
    "# Inicializamos una lista vacía para almacenar los datos.\n",
    "    lista = []                  \n",
    "\n",
    "# Abrimos el archivo 'archivo' en modo de lectura ('r') con codificación UTF-8.\n",
    "    with open(archivo, 'r', encoding='utf-8') as file:\n",
    "        for num_linea, linea in enumerate(file, start=1):\n",
    "# Iteramos a través de cada línea del archivo, manteniendo un contador 'num_linea'.\n",
    "           \n",
    "            try:\n",
    "                data = json.loads(linea)          # Intentamos cargar la línea actual como un objeto JSON.\n",
    "                lista.append(data)                # Agregamos el objeto JSON a la lista.\n",
    "            except json.JSONDecodeError:          # Si la línea no es un objeto JSON válido y genera un error 'JSONDecodeError', continuamos con el siguiente paso.\n",
    "         \n",
    "                try:\n",
    "                    data = eval(linea)              # Intentamos interpretar la línea como un diccionario utilizando 'eval'.\n",
    "                    if isinstance(data, dict):      # Verificamos si 'data' es un diccionario.\n",
    "                        lista.append(data)          # Agregamos el diccionario a la lista.\n",
    "                except Exception as e:              # Si hay cualquier otro error durante el proceso, lo atrapamos y lo ignoramos.\n",
    "                    pass\n",
    "\n",
    "    df = pd.DataFrame(lista)        # Creamos un DataFrame a partir de la lista de datos obtenidos.\n",
    "    return df"
   ]
  },
  {
   "cell_type": "code",
   "execution_count": 4,
   "metadata": {},
   "outputs": [],
   "source": [
    "#Aca asignamos variables a nuestros archivos\n",
    "archivo1 = 'Datasets/Datasets descomprimidos/australian_user_reviews.json.'\n",
    "archivo2 = 'Datasets/Datasets descomprimidos/australian_users_items.json.'\n",
    "archivo3 = 'Datasets/Datasets descomprimidos/output_steam_games.json.'\n",
    "\n",
    "#Cargamos los archivos en un DataFrame\n",
    "df_reviews = cargar_json(archivo1)\n",
    "df_items = cargar_json(archivo2)\n",
    "df_games = cargar_json(archivo3)"
   ]
  },
  {
   "cell_type": "code",
   "execution_count": 6,
   "metadata": {},
   "outputs": [
    {
     "data": {
      "text/html": [
       "<div>\n",
       "<style scoped>\n",
       "    .dataframe tbody tr th:only-of-type {\n",
       "        vertical-align: middle;\n",
       "    }\n",
       "\n",
       "    .dataframe tbody tr th {\n",
       "        vertical-align: top;\n",
       "    }\n",
       "\n",
       "    .dataframe thead th {\n",
       "        text-align: right;\n",
       "    }\n",
       "</style>\n",
       "<table border=\"1\" class=\"dataframe\">\n",
       "  <thead>\n",
       "    <tr style=\"text-align: right;\">\n",
       "      <th></th>\n",
       "      <th>user_id</th>\n",
       "      <th>user_url</th>\n",
       "      <th>reviews</th>\n",
       "    </tr>\n",
       "  </thead>\n",
       "  <tbody>\n",
       "    <tr>\n",
       "      <th>0</th>\n",
       "      <td>76561197970982479</td>\n",
       "      <td>http://steamcommunity.com/profiles/76561197970...</td>\n",
       "      <td>[{'funny': '', 'posted': 'Posted November 5, 2...</td>\n",
       "    </tr>\n",
       "    <tr>\n",
       "      <th>1</th>\n",
       "      <td>js41637</td>\n",
       "      <td>http://steamcommunity.com/id/js41637</td>\n",
       "      <td>[{'funny': '', 'posted': 'Posted June 24, 2014...</td>\n",
       "    </tr>\n",
       "    <tr>\n",
       "      <th>2</th>\n",
       "      <td>evcentric</td>\n",
       "      <td>http://steamcommunity.com/id/evcentric</td>\n",
       "      <td>[{'funny': '', 'posted': 'Posted February 3.',...</td>\n",
       "    </tr>\n",
       "  </tbody>\n",
       "</table>\n",
       "</div>"
      ],
      "text/plain": [
       "             user_id                                           user_url  \\\n",
       "0  76561197970982479  http://steamcommunity.com/profiles/76561197970...   \n",
       "1            js41637               http://steamcommunity.com/id/js41637   \n",
       "2          evcentric             http://steamcommunity.com/id/evcentric   \n",
       "\n",
       "                                             reviews  \n",
       "0  [{'funny': '', 'posted': 'Posted November 5, 2...  \n",
       "1  [{'funny': '', 'posted': 'Posted June 24, 2014...  \n",
       "2  [{'funny': '', 'posted': 'Posted February 3.',...  "
      ]
     },
     "execution_count": 6,
     "metadata": {},
     "output_type": "execute_result"
    }
   ],
   "source": [
    "df_reviews.head(3)"
   ]
  },
  {
   "cell_type": "code",
   "execution_count": 7,
   "metadata": {},
   "outputs": [
    {
     "data": {
      "text/html": [
       "<div>\n",
       "<style scoped>\n",
       "    .dataframe tbody tr th:only-of-type {\n",
       "        vertical-align: middle;\n",
       "    }\n",
       "\n",
       "    .dataframe tbody tr th {\n",
       "        vertical-align: top;\n",
       "    }\n",
       "\n",
       "    .dataframe thead th {\n",
       "        text-align: right;\n",
       "    }\n",
       "</style>\n",
       "<table border=\"1\" class=\"dataframe\">\n",
       "  <thead>\n",
       "    <tr style=\"text-align: right;\">\n",
       "      <th></th>\n",
       "      <th>user_id</th>\n",
       "      <th>items_count</th>\n",
       "      <th>steam_id</th>\n",
       "      <th>user_url</th>\n",
       "      <th>items</th>\n",
       "    </tr>\n",
       "  </thead>\n",
       "  <tbody>\n",
       "    <tr>\n",
       "      <th>0</th>\n",
       "      <td>76561197970982479</td>\n",
       "      <td>277</td>\n",
       "      <td>76561197970982479</td>\n",
       "      <td>http://steamcommunity.com/profiles/76561197970...</td>\n",
       "      <td>[{'item_id': '10', 'item_name': 'Counter-Strik...</td>\n",
       "    </tr>\n",
       "    <tr>\n",
       "      <th>1</th>\n",
       "      <td>js41637</td>\n",
       "      <td>888</td>\n",
       "      <td>76561198035864385</td>\n",
       "      <td>http://steamcommunity.com/id/js41637</td>\n",
       "      <td>[{'item_id': '10', 'item_name': 'Counter-Strik...</td>\n",
       "    </tr>\n",
       "    <tr>\n",
       "      <th>2</th>\n",
       "      <td>evcentric</td>\n",
       "      <td>137</td>\n",
       "      <td>76561198007712555</td>\n",
       "      <td>http://steamcommunity.com/id/evcentric</td>\n",
       "      <td>[{'item_id': '1200', 'item_name': 'Red Orchest...</td>\n",
       "    </tr>\n",
       "  </tbody>\n",
       "</table>\n",
       "</div>"
      ],
      "text/plain": [
       "             user_id  items_count           steam_id  \\\n",
       "0  76561197970982479          277  76561197970982479   \n",
       "1            js41637          888  76561198035864385   \n",
       "2          evcentric          137  76561198007712555   \n",
       "\n",
       "                                            user_url  \\\n",
       "0  http://steamcommunity.com/profiles/76561197970...   \n",
       "1               http://steamcommunity.com/id/js41637   \n",
       "2             http://steamcommunity.com/id/evcentric   \n",
       "\n",
       "                                               items  \n",
       "0  [{'item_id': '10', 'item_name': 'Counter-Strik...  \n",
       "1  [{'item_id': '10', 'item_name': 'Counter-Strik...  \n",
       "2  [{'item_id': '1200', 'item_name': 'Red Orchest...  "
      ]
     },
     "execution_count": 7,
     "metadata": {},
     "output_type": "execute_result"
    }
   ],
   "source": [
    "df_items.head(3)"
   ]
  },
  {
   "cell_type": "code",
   "execution_count": 8,
   "metadata": {},
   "outputs": [
    {
     "data": {
      "text/html": [
       "<div>\n",
       "<style scoped>\n",
       "    .dataframe tbody tr th:only-of-type {\n",
       "        vertical-align: middle;\n",
       "    }\n",
       "\n",
       "    .dataframe tbody tr th {\n",
       "        vertical-align: top;\n",
       "    }\n",
       "\n",
       "    .dataframe thead th {\n",
       "        text-align: right;\n",
       "    }\n",
       "</style>\n",
       "<table border=\"1\" class=\"dataframe\">\n",
       "  <thead>\n",
       "    <tr style=\"text-align: right;\">\n",
       "      <th></th>\n",
       "      <th>publisher</th>\n",
       "      <th>genres</th>\n",
       "      <th>app_name</th>\n",
       "      <th>title</th>\n",
       "      <th>url</th>\n",
       "      <th>release_date</th>\n",
       "      <th>tags</th>\n",
       "      <th>reviews_url</th>\n",
       "      <th>specs</th>\n",
       "      <th>price</th>\n",
       "      <th>early_access</th>\n",
       "      <th>id</th>\n",
       "      <th>developer</th>\n",
       "    </tr>\n",
       "  </thead>\n",
       "  <tbody>\n",
       "    <tr>\n",
       "      <th>0</th>\n",
       "      <td>NaN</td>\n",
       "      <td>NaN</td>\n",
       "      <td>NaN</td>\n",
       "      <td>NaN</td>\n",
       "      <td>NaN</td>\n",
       "      <td>NaN</td>\n",
       "      <td>NaN</td>\n",
       "      <td>NaN</td>\n",
       "      <td>NaN</td>\n",
       "      <td>NaN</td>\n",
       "      <td>NaN</td>\n",
       "      <td>NaN</td>\n",
       "      <td>NaN</td>\n",
       "    </tr>\n",
       "    <tr>\n",
       "      <th>1</th>\n",
       "      <td>NaN</td>\n",
       "      <td>NaN</td>\n",
       "      <td>NaN</td>\n",
       "      <td>NaN</td>\n",
       "      <td>NaN</td>\n",
       "      <td>NaN</td>\n",
       "      <td>NaN</td>\n",
       "      <td>NaN</td>\n",
       "      <td>NaN</td>\n",
       "      <td>NaN</td>\n",
       "      <td>NaN</td>\n",
       "      <td>NaN</td>\n",
       "      <td>NaN</td>\n",
       "    </tr>\n",
       "    <tr>\n",
       "      <th>2</th>\n",
       "      <td>NaN</td>\n",
       "      <td>NaN</td>\n",
       "      <td>NaN</td>\n",
       "      <td>NaN</td>\n",
       "      <td>NaN</td>\n",
       "      <td>NaN</td>\n",
       "      <td>NaN</td>\n",
       "      <td>NaN</td>\n",
       "      <td>NaN</td>\n",
       "      <td>NaN</td>\n",
       "      <td>NaN</td>\n",
       "      <td>NaN</td>\n",
       "      <td>NaN</td>\n",
       "    </tr>\n",
       "  </tbody>\n",
       "</table>\n",
       "</div>"
      ],
      "text/plain": [
       "  publisher genres app_name title  url release_date tags reviews_url specs  \\\n",
       "0       NaN    NaN      NaN   NaN  NaN          NaN  NaN         NaN   NaN   \n",
       "1       NaN    NaN      NaN   NaN  NaN          NaN  NaN         NaN   NaN   \n",
       "2       NaN    NaN      NaN   NaN  NaN          NaN  NaN         NaN   NaN   \n",
       "\n",
       "  price early_access   id developer  \n",
       "0   NaN          NaN  NaN       NaN  \n",
       "1   NaN          NaN  NaN       NaN  \n",
       "2   NaN          NaN  NaN       NaN  "
      ]
     },
     "execution_count": 8,
     "metadata": {},
     "output_type": "execute_result"
    }
   ],
   "source": [
    "df_games.head(3)"
   ]
  },
  {
   "cell_type": "code",
   "execution_count": 9,
   "metadata": {},
   "outputs": [
    {
     "name": "stdout",
     "output_type": "stream",
     "text": [
      "(25799, 3)\n",
      "(88310, 5)\n",
      "(120445, 13)\n"
     ]
    }
   ],
   "source": [
    "print(df_reviews.shape)\n",
    "print(df_items.shape)\n",
    "print(df_games.shape)"
   ]
  },
  {
   "cell_type": "markdown",
   "metadata": {},
   "source": [
    "# DESANIDAMOS"
   ]
  },
  {
   "cell_type": "code",
   "execution_count": 10,
   "metadata": {},
   "outputs": [],
   "source": [
    "df_exploded = df_reviews.explode('reviews')\n",
    "df_normalized = pd.json_normalize(df_exploded['reviews'])\n",
    "\n",
    "df_exploded.reset_index(drop=True, inplace=True)\n",
    "df_normalized.reset_index(drop=True, inplace=True)\n",
    "\n",
    "# Combinamos con el DataFrame original\n",
    "df_reviews_limpio = pd.concat([df_exploded, df_normalized], axis=1).drop('reviews', axis=1)\n",
    "\n",
    "#cambiamos por nan los espacios en blanco\n",
    "df_reviews_limpio['funny'] = df_reviews_limpio['funny'].replace('', np.nan)\n",
    "df_reviews_limpio['last_edited'] = df_reviews_limpio['last_edited'].replace('', np.nan)\n",
    "\n",
    "#Cambiamos la columna review a tipo str\n",
    "df_reviews_limpio['review'] = df_reviews_limpio['review'].astype(str)"
   ]
  },
  {
   "cell_type": "code",
   "execution_count": 11,
   "metadata": {},
   "outputs": [],
   "source": [
    "df_explo = df_items.explode('items')\n",
    "df_nor = pd.json_normalize(df_explo['items'])\n",
    "df_explo.head()\n",
    "\n",
    "df_explo.reset_index(drop=True, inplace=True)\n",
    "df_nor.reset_index(drop=True, inplace=True)\n",
    "\n",
    "# Combinamos con el DataFrame original\n",
    "df_items_limpio = pd.concat([df_explo, df_nor], axis=1).drop('items', axis=1)\n",
    "\n",
    "#los valores nulos los convertimos a cero\n",
    "df_items_limpio['playtime_forever'] = df_items_limpio['playtime_forever'].fillna(0).astype(int)\n",
    "\n",
    "#convertimos la columna playtime_forever a tipo entero\n",
    "df_items_limpio['playtime_forever'] = df_items_limpio['playtime_forever'].astype(int)\n",
    "\n",
    "# Eliminamos las filas que el playtime_forever es igual a cero\n",
    "df_items_limpio = df_items_limpio[df_items_limpio['playtime_forever'] != 0]"
   ]
  },
  {
   "cell_type": "markdown",
   "metadata": {},
   "source": [
    "# Borramos columnas que no nos sirvan"
   ]
  },
  {
   "cell_type": "code",
   "execution_count": 12,
   "metadata": {},
   "outputs": [],
   "source": [
    "df_reviews_limpio = df_reviews_limpio.drop(columns= 'user_url')\n",
    "df_items_limpio = df_items_limpio.drop(columns= ['user_url','steam_id','items_count','playtime_2weeks'])\n",
    "df_games_limpio = df_games.drop(columns= ['reviews_url','title','url'])"
   ]
  },
  {
   "cell_type": "markdown",
   "metadata": {},
   "source": [
    "# Le borramos los NaN"
   ]
  },
  {
   "cell_type": "code",
   "execution_count": 13,
   "metadata": {},
   "outputs": [],
   "source": [
    "df_reviews_limpio = df_reviews_limpio.dropna(how='all', axis=0)\n",
    "df_items_limpio = df_items_limpio.dropna(how='all', axis=0)\n",
    "df_games_limpio = df_games_limpio.dropna(how='all', axis=0)"
   ]
  },
  {
   "cell_type": "markdown",
   "metadata": {},
   "source": [
    "# Borramos los duplicados"
   ]
  },
  {
   "cell_type": "code",
   "execution_count": 14,
   "metadata": {},
   "outputs": [],
   "source": [
    "df_games_limpio = df_games_limpio.drop_duplicates(subset=[\"id\"])"
   ]
  },
  {
   "cell_type": "code",
   "execution_count": 15,
   "metadata": {},
   "outputs": [
    {
     "name": "stdout",
     "output_type": "stream",
     "text": [
      "(59333, 8)\n",
      "(3285246, 4)\n",
      "(32133, 10)\n"
     ]
    }
   ],
   "source": [
    "print(df_reviews_limpio.shape)\n",
    "print(df_items_limpio.shape)\n",
    "print(df_games_limpio.shape)"
   ]
  },
  {
   "cell_type": "code",
   "execution_count": 16,
   "metadata": {},
   "outputs": [],
   "source": [
    "df_reviews_limpio = df_reviews_limpio.drop_duplicates()\n",
    "df_items_limpio = df_items_limpio.drop_duplicates()"
   ]
  },
  {
   "cell_type": "code",
   "execution_count": 17,
   "metadata": {},
   "outputs": [
    {
     "name": "stdout",
     "output_type": "stream",
     "text": [
      "(58459, 8)\n",
      "(3246362, 4)\n",
      "(32133, 10)\n"
     ]
    }
   ],
   "source": [
    "print(df_reviews_limpio.shape)\n",
    "print(df_items_limpio.shape)\n",
    "print(df_games_limpio.shape)"
   ]
  },
  {
   "cell_type": "markdown",
   "metadata": {},
   "source": [
    "# Renombramos columnas"
   ]
  },
  {
   "cell_type": "code",
   "execution_count": 18,
   "metadata": {},
   "outputs": [],
   "source": [
    "df_items_limpio = df_items_limpio.rename(columns={'item_id': 'id'})"
   ]
  },
  {
   "cell_type": "code",
   "execution_count": 19,
   "metadata": {},
   "outputs": [],
   "source": [
    "df_reviews_limpio = df_reviews_limpio.rename(columns={'item_id': 'id'})"
   ]
  },
  {
   "cell_type": "markdown",
   "metadata": {},
   "source": [
    "# Creamos la columna 'sentiment_analysis'"
   ]
  },
  {
   "cell_type": "code",
   "execution_count": 20,
   "metadata": {},
   "outputs": [],
   "source": [
    "from textblob import TextBlob\n",
    "\n",
    "#columna 'review' que contiene las reseñas de los usuarios.\n",
    "\n",
    "# Función para clasificar las reseñas\n",
    "def classify_sentiment(text):\n",
    "    analysis = TextBlob(text)\n",
    "    polarity = analysis.sentiment.polarity\n",
    "\n",
    "    # Clasificamos según la polaridad\n",
    "    if polarity < -0.2:\n",
    "        return 0  # Reseña mala\n",
    "    elif polarity > 0.2:\n",
    "        return 2  # Reseña positiva\n",
    "    else:\n",
    "        return 1  # Reseña neutra\n",
    "\n",
    "# Aplicamos la función a la columna 'review' y guardamos los resultados en la nueva columna 'sentiment_analysis'\n",
    "df_reviews_limpio['sentiment_analysis'] = df_reviews_limpio['review'].apply(classify_sentiment)\n"
   ]
  },
  {
   "cell_type": "code",
   "execution_count": 21,
   "metadata": {},
   "outputs": [],
   "source": [
    "#Eliminamos la columna ya que fue reemplazada con la columna sentiment_analysis\n",
    "df_reviews_limpio = df_reviews_limpio.drop(columns= 'review')"
   ]
  },
  {
   "cell_type": "markdown",
   "metadata": {},
   "source": [
    "# FUNCION 1"
   ]
  },
  {
   "cell_type": "code",
   "execution_count": 22,
   "metadata": {},
   "outputs": [],
   "source": [
    "#desanidamos la columna genres\n",
    "genres_desanidado = df_games_limpio.explode('genres')"
   ]
  },
  {
   "cell_type": "markdown",
   "metadata": {},
   "source": [
    "# Creamos un DF que se llama \"'funcion_1\" con las columnas que necesitamos para resolver la primera funcion dada"
   ]
  },
  {
   "cell_type": "code",
   "execution_count": 23,
   "metadata": {},
   "outputs": [],
   "source": [
    "funcion_1i = ['id', 'playtime_forever']\n",
    "funcion_1g = ['id', 'genres', 'release_date']\n",
    "\n",
    "funcion_1idf = df_items_limpio[funcion_1i]\n",
    "funcion_1gdf = genres_desanidado[funcion_1g]\n",
    "funcion_1 = pd.merge(funcion_1idf, funcion_1gdf, on= 'id')"
   ]
  },
  {
   "cell_type": "code",
   "execution_count": 24,
   "metadata": {},
   "outputs": [],
   "source": [
    "#Si el id y genres coinciden en varias filas el playtime_forever se suma. Asi reducimos cantidad de filas\n",
    "funcion_1 = funcion_1.groupby(['id', 'genres','release_date'])['playtime_forever'].sum().reset_index()"
   ]
  },
  {
   "cell_type": "code",
   "execution_count": 25,
   "metadata": {},
   "outputs": [],
   "source": [
    "#Funcion para transformar la columna de release_date en solo el año\n",
    "\n",
    "def extraer_año(fecha):\n",
    "    if isinstance(fecha, str):\n",
    "        # Intentamos extraer el año si es una cadena de caracteres\n",
    "        partes = fecha.split('-')\n",
    "        for parte in partes:\n",
    "            if parte.isdigit() and len(parte) == 4:\n",
    "                return parte\n",
    "    return None  # Devuelve None si no se puede extraer el año\n",
    "\n",
    "# Aplicamos la función para extraer el año \n",
    "funcion_1['release_date'] = funcion_1['release_date'].apply(extraer_año)"
   ]
  },
  {
   "cell_type": "code",
   "execution_count": 26,
   "metadata": {},
   "outputs": [],
   "source": [
    "#Funcion numero 1: devuelve el año con mas horas jugadas por GENERO\n",
    "def PlayTimeGenre(genero: str):\n",
    "    # Filtrar el DataFrame para obtener solo las filas del género específico\n",
    "    funcion_1_filtrado = funcion_1[funcion_1['genres'].str.contains(genero, case=False, na=False)]\n",
    "\n",
    "    if funcion_1_filtrado.empty:\n",
    "        return \"No se encontraron datos para el género especificado.\"\n",
    "\n",
    "    # Encontrar el año con más horas jugadas\n",
    "    año_con_mas_horas = funcion_1_filtrado.groupby('release_date')['playtime_forever'].sum().idxmax()\n",
    "\n",
    "    return {\"Año de lanzamiento con más horas jugadas para Género \" + genero: año_con_mas_horas}\n"
   ]
  },
  {
   "cell_type": "code",
   "execution_count": 27,
   "metadata": {},
   "outputs": [
    {
     "data": {
      "text/plain": [
       "{'Año de lanzamiento con más horas jugadas para Género Casual': '2015'}"
      ]
     },
     "execution_count": 27,
     "metadata": {},
     "output_type": "execute_result"
    }
   ],
   "source": [
    "PlayTimeGenre('Casual')"
   ]
  },
  {
   "cell_type": "markdown",
   "metadata": {},
   "source": [
    "# FUNCION 2"
   ]
  },
  {
   "cell_type": "code",
   "execution_count": 28,
   "metadata": {},
   "outputs": [],
   "source": [
    "df_reviews_limpio['posted'] = df_reviews_limpio['posted'].astype(str)"
   ]
  },
  {
   "cell_type": "code",
   "execution_count": 29,
   "metadata": {},
   "outputs": [],
   "source": [
    "import re\n",
    "\n",
    "def extraer_año(fecha):\n",
    "    # Utilizamos una expresión regular para buscar el año en el formato dado\n",
    "    match = re.search(r'\\d{4}', fecha)\n",
    "    if match:\n",
    "        return match.group()\n",
    "    else:\n",
    "        return None\n",
    "\n",
    "# Aplicamos la función para extraer el año a la columna 'release_date'\n",
    "df_reviews_limpio['posted'] = df_reviews_limpio['posted'].apply(extraer_año)"
   ]
  },
  {
   "cell_type": "code",
   "execution_count": 30,
   "metadata": {},
   "outputs": [],
   "source": [
    "df_reviews_limpio['posted'] = df_reviews_limpio['posted'].fillna(0)"
   ]
  },
  {
   "cell_type": "code",
   "execution_count": 31,
   "metadata": {},
   "outputs": [],
   "source": [
    "df_reviews_limpio['posted'].fillna(0, inplace=True)\n",
    "df_reviews_limpio['id'].fillna(0, inplace=True)\n",
    "df_items_limpio['id'].fillna(0, inplace=True)\n",
    "genres_desanidado['id'].fillna(0, inplace=True)"
   ]
  },
  {
   "cell_type": "code",
   "execution_count": 32,
   "metadata": {},
   "outputs": [],
   "source": [
    "df_reviews_limpio['posted'] = df_reviews_limpio['posted'].astype(int)\n",
    "df_reviews_limpio['id'] = df_reviews_limpio['id'].astype(int)\n",
    "df_items_limpio['id'] = df_items_limpio['id'].astype(int)\n",
    "genres_desanidado['id'] = genres_desanidado['id'].astype(int)"
   ]
  },
  {
   "cell_type": "code",
   "execution_count": 33,
   "metadata": {},
   "outputs": [],
   "source": [
    "#creamos el df con las columnas necesarias llamado funcion_2\n",
    "\n",
    "funcion_2i = ['id', 'user_id', 'playtime_forever']\n",
    "funcion_2r = ['user_id', 'posted']\n",
    "funcion_2g = ['id', 'genres']\n",
    "\n",
    "funcion_2idf = df_items_limpio[funcion_2i]\n",
    "funcion_2rdf = df_reviews_limpio[funcion_2r]\n",
    "funcion_2gdf = genres_desanidado[funcion_2g]\n",
    "\n",
    "funcion_2 = pd.merge(funcion_2idf, funcion_2rdf, on= 'user_id')\n",
    "funcion_2 = pd.merge(funcion_2, funcion_2gdf, on= 'id')"
   ]
  },
  {
   "cell_type": "code",
   "execution_count": 34,
   "metadata": {},
   "outputs": [],
   "source": [
    "funcion_2 = funcion_2[funcion_2['posted'] != 0]\n",
    "funcion_2 = funcion_2.drop_duplicates()"
   ]
  },
  {
   "cell_type": "code",
   "execution_count": 35,
   "metadata": {},
   "outputs": [],
   "source": [
    "#Funcion numero 2: devuelve el usuario que acumula más horas jugadas para el género dado\n",
    "# y una lista de la acumulación de horas jugadas por año.\n",
    "\n",
    "def UserForGenre(genero):\n",
    "    # Filtramos los datos por el género proporcionado\n",
    "    data_f = funcion_2[funcion_2['genres'] == genero]\n",
    "\n",
    "    # Calculamos las horas jugadas por usuario y año\n",
    "    grouped_data = data_f.groupby(['user_id'])['playtime_forever'].sum().reset_index()\n",
    "\n",
    "    # Encontramos al usuario con la máxima acumulación de horas jugadas\n",
    "    max_user = grouped_data.groupby('user_id')['playtime_forever'].sum().idxmax()\n",
    "\n",
    "    # Filtramos los datos para el usuario con más horas jugadas\n",
    "    max_user_data = grouped_data[grouped_data['user_id'] == max_user]\n",
    "\n",
    "    # Creamos una lista de la acumulación de horas jugadas por año\n",
    "    horas_por_año = data_f.groupby('posted')['playtime_forever'].sum().reset_index()\n",
    "    horas_por_año_dict = [{\"Año\": año, \"Horas\": horas} for año, horas in zip(horas_por_año['posted'], horas_por_año['playtime_forever'])]\n",
    "\n",
    "\n",
    "    resultado = {\n",
    "        \"Usuario con más horas jugadas para el género \" + genero: max_user,\n",
    "        \"Horas jugadas por año\": horas_por_año_dict\n",
    "    }\n",
    "\n",
    "    return resultado\n",
    "\n"
   ]
  },
  {
   "cell_type": "code",
   "execution_count": 36,
   "metadata": {},
   "outputs": [
    {
     "data": {
      "text/plain": [
       "{'Usuario con más horas jugadas para el género Casual': 'REBAS_AS_F-T',\n",
       " 'Horas jugadas por año': [{'Año': 2010, 'Horas': 1270625},\n",
       "  {'Año': 2011, 'Horas': 4352970},\n",
       "  {'Año': 2012, 'Horas': 9154282},\n",
       "  {'Año': 2013, 'Horas': 26095367},\n",
       "  {'Año': 2014, 'Horas': 66398704},\n",
       "  {'Año': 2015, 'Horas': 63537063}]}"
      ]
     },
     "execution_count": 36,
     "metadata": {},
     "output_type": "execute_result"
    }
   ],
   "source": [
    "UserForGenre('Casual')"
   ]
  },
  {
   "cell_type": "markdown",
   "metadata": {},
   "source": [
    "# FUNCION 3"
   ]
  },
  {
   "cell_type": "code",
   "execution_count": 37,
   "metadata": {},
   "outputs": [],
   "source": [
    "#creamos el df con las columnas necesarias llamado funcion_3\n",
    "funcion_3i = ['id', 'user_id']\n",
    "funcion_3r = ['user_id', 'posted', 'recommend', 'sentiment_analysis']\n",
    "funcion_3g = ['id', 'app_name']\n",
    "\n",
    "funcion_3idf = df_items_limpio[funcion_3i]\n",
    "funcion_3rdf = df_reviews_limpio[funcion_3r]\n",
    "funcion_3gdf = genres_desanidado[funcion_3g]\n",
    "funcion_3 = pd.merge(funcion_3idf, funcion_3rdf, on= 'user_id')\n",
    "funcion_3 = pd.merge(funcion_3, funcion_3gdf, on= 'id')"
   ]
  },
  {
   "cell_type": "code",
   "execution_count": 38,
   "metadata": {},
   "outputs": [],
   "source": [
    "funcion_3 = funcion_3[funcion_3['recommend'] != False]"
   ]
  },
  {
   "cell_type": "code",
   "execution_count": 39,
   "metadata": {},
   "outputs": [],
   "source": [
    "funcion_3 = funcion_3[funcion_3['sentiment_analysis'] != 0]"
   ]
  },
  {
   "cell_type": "code",
   "execution_count": 40,
   "metadata": {},
   "outputs": [],
   "source": [
    "funcion_3 = funcion_3.drop_duplicates()"
   ]
  },
  {
   "cell_type": "code",
   "execution_count": 41,
   "metadata": {},
   "outputs": [],
   "source": [
    "def UsersRecommend(año):\n",
    "    # Filtramos los datos para el año especificado\n",
    "    data_filtrada = funcion_3[funcion_3['posted'] == año]\n",
    "\n",
    "    # Calculamos la cantidad de recomendaciones para cada juego\n",
    "    recomendacion = data_filtrada['app_name'].value_counts().reset_index()\n",
    "    recomendacion.columns = ['app_name', 'recommend']\n",
    "\n",
    "    # Clasificamos los juegos en función de la cantidad de recomendaciones\n",
    "    top_3_games = recomendacion.sort_values(by='recommend', ascending=False).head(3)\n",
    "\n",
    "    # Creamos la estructura de resultado deseada\n",
    "    resultado = []\n",
    "\n",
    "    for i, juego, recomendaciones in zip(range(1, 4), top_3_games['app_name'], top_3_games['recommend']):\n",
    "        resultado.append(f\"Puesto {i}: {juego} {recomendaciones}\")\n",
    "\n",
    "    return resultado"
   ]
  },
  {
   "cell_type": "code",
   "execution_count": 42,
   "metadata": {},
   "outputs": [
    {
     "data": {
      "text/plain": [
       "['Puesto 1: Counter-Strike: Global Offensive 8106',\n",
       " \"Puesto 2: Garry's Mod 7957\",\n",
       " 'Puesto 3: Unturned 7211']"
      ]
     },
     "execution_count": 42,
     "metadata": {},
     "output_type": "execute_result"
    }
   ],
   "source": [
    "UsersRecommend(2015)"
   ]
  },
  {
   "cell_type": "markdown",
   "metadata": {},
   "source": [
    "# FUNCION 4"
   ]
  },
  {
   "cell_type": "code",
   "execution_count": 43,
   "metadata": {},
   "outputs": [],
   "source": [
    "#creamos el df con las columnas necesarias llamado funcion_4\n",
    "funcion_4i = ['id', 'user_id']\n",
    "funcion_4r = ['user_id', 'posted', 'recommend', 'sentiment_analysis']\n",
    "funcion_4g = ['id', 'app_name']\n",
    "\n",
    "funcion_4idf = df_items_limpio[funcion_4i]\n",
    "funcion_4rdf = df_reviews_limpio[funcion_4r]\n",
    "funcion_4gdf = genres_desanidado[funcion_4g]\n",
    "funcion_4 = pd.merge(funcion_4idf, funcion_4rdf, on= 'user_id')\n",
    "funcion_4 = pd.merge(funcion_4, funcion_4gdf, on= 'id')"
   ]
  },
  {
   "cell_type": "code",
   "execution_count": 44,
   "metadata": {},
   "outputs": [],
   "source": [
    "funcion_4 = funcion_4[funcion_4['recommend'] != True]\n",
    "funcion_4 = funcion_4[funcion_4['sentiment_analysis'] == 0]"
   ]
  },
  {
   "cell_type": "code",
   "execution_count": 45,
   "metadata": {},
   "outputs": [],
   "source": [
    "funcion_4 = funcion_4.drop_duplicates()"
   ]
  },
  {
   "cell_type": "code",
   "execution_count": 46,
   "metadata": {},
   "outputs": [],
   "source": [
    "def UsersNotRecommend(año):\n",
    "    # Filtramos los datos para el año especificado\n",
    "    data_filtrada = funcion_4[funcion_4['posted'] == año]\n",
    "\n",
    "    # Calculamos la suma de recomendaciones para cada juego\n",
    "    recomendaciones_por_juego = data_filtrada.groupby('app_name')['sentiment_analysis'].sum().reset_index()\n",
    "\n",
    "    # Clasificamos los juegos en función de la suma de recomendaciones (de menor a mayor)\n",
    "    juegos_menos_recomendados = recomendaciones_por_juego.sort_values(by='sentiment_analysis').head(3)\n",
    "\n",
    "    # Creamos la estructura de resultado deseada\n",
    "    resultado = [{\"Puesto \" + str(i + 1): juego + \" \" + str(recomendaciones) + \" recomendaciones obtuvo\"} for i, juego, recomendaciones in\n",
    "                zip(range(3), juegos_menos_recomendados['app_name'], juegos_menos_recomendados['sentiment_analysis'])]\n",
    "\n",
    "    return resultado"
   ]
  },
  {
   "cell_type": "code",
   "execution_count": 47,
   "metadata": {},
   "outputs": [
    {
     "data": {
      "text/plain": [
       "[{'Puesto 1': 'A Bird Story 0 recomendaciones obtuvo'},\n",
       " {'Puesto 2': 'Sins of a Solar Empire®: Rebellion 0 recomendaciones obtuvo'},\n",
       " {'Puesto 3': 'SimCity™ 4 Deluxe Edition 0 recomendaciones obtuvo'}]"
      ]
     },
     "execution_count": 47,
     "metadata": {},
     "output_type": "execute_result"
    }
   ],
   "source": [
    "UsersNotRecommend(2012)"
   ]
  },
  {
   "cell_type": "markdown",
   "metadata": {},
   "source": [
    "# FUNCION 5"
   ]
  },
  {
   "cell_type": "markdown",
   "metadata": {},
   "source": [
    "def sentiment_analysis( año : int ): Según el año de lanzamiento, se devuelve una lista con la cantidad de registros de reseñas de usuarios que se encuentren categorizados con un análisis de sentimiento.\n",
    "Ejemplo de retorno: {Negative = 182, Neutral = 120, Positive = 278}"
   ]
  },
  {
   "cell_type": "code",
   "execution_count": 48,
   "metadata": {},
   "outputs": [],
   "source": [
    "#creamos el df con las columnas necesarias llamado funcion_5\n",
    "funcion_5i = ['id', 'user_id']\n",
    "funcion_5r = ['user_id', 'sentiment_analysis']\n",
    "funcion_5g = ['id', 'release_date']\n",
    "\n",
    "funcion_5idf = df_items_limpio[funcion_5i]\n",
    "funcion_5rdf = df_reviews_limpio[funcion_5r]\n",
    "funcion_5gdf = genres_desanidado[funcion_5g]\n",
    "funcion_5 = pd.merge(funcion_5idf, funcion_5rdf, on= 'user_id')\n",
    "funcion_5 = pd.merge(funcion_5, funcion_5gdf, on= 'id')"
   ]
  },
  {
   "cell_type": "code",
   "execution_count": 49,
   "metadata": {},
   "outputs": [],
   "source": [
    "funcion_5 = funcion_5.drop_duplicates()"
   ]
  },
  {
   "cell_type": "code",
   "execution_count": 50,
   "metadata": {},
   "outputs": [],
   "source": [
    "funcion_5['release_date'] = funcion_5['release_date'].astype(str)\n",
    "funcion_5['release_date'] = funcion_5['release_date'].apply(extraer_año)\n",
    "funcion_5['release_date'].fillna(0, inplace=True)\n",
    "funcion_5['release_date'] = funcion_5['release_date'].astype(int)"
   ]
  },
  {
   "cell_type": "code",
   "execution_count": 51,
   "metadata": {},
   "outputs": [],
   "source": [
    "def sentiment_analysis(anio: int):\n",
    "    # Filtrar los datos para el año especificado y contar las categorías de sentimiento\n",
    "    funcion_5_f = funcion_5[funcion_5['release_date'] == anio]\n",
    "    sentiment_counts = funcion_5_f['sentiment_analysis'].value_counts().to_dict()\n",
    "\n",
    "    # Crear un diccionario con los resultados\n",
    "    results = {\n",
    "        'Negative': sentiment_counts.get(0, 0),\n",
    "        'Neutral': sentiment_counts.get(1, 0),\n",
    "        'Positive': sentiment_counts.get(2, 0)\n",
    "    }\n",
    "\n",
    "    return results\n"
   ]
  },
  {
   "cell_type": "code",
   "execution_count": 52,
   "metadata": {},
   "outputs": [
    {
     "data": {
      "text/plain": [
       "{'Negative': 42953, 'Neutral': 165701, 'Positive': 106901}"
      ]
     },
     "execution_count": 52,
     "metadata": {},
     "output_type": "execute_result"
    }
   ],
   "source": [
    "sentiment_analysis(2014)"
   ]
  },
  {
   "cell_type": "code",
   "execution_count": 53,
   "metadata": {},
   "outputs": [],
   "source": [
    "# Obtener una muestra del 50% de los datos\n",
    "funcion_1_muestra = funcion_1.sample(frac=0.50, random_state=1)\n",
    "funcion_2_muestra = funcion_2.sample(frac=0.50, random_state=1)\n",
    "funcion_3_muestra = funcion_3.sample(frac=0.50, random_state=1)\n",
    "funcion_4_muestra = funcion_4.sample(frac=0.50, random_state=1)\n",
    "funcion_5_muestra = funcion_5.sample(frac=0.50, random_state=1)"
   ]
  },
  {
   "cell_type": "code",
   "execution_count": 54,
   "metadata": {},
   "outputs": [
    {
     "data": {
      "text/plain": [
       "\"\\nfuncion_1_muestra.to_parquet('funcion_1_muestra.parquet', index=True)\\nfuncion_2_muestra.to_parquet('funcion_2_muestra.parquet', index=True)\\nfuncion_3_muestra.to_parquet('funcion_3_muestra.parquet', index=True)\\nfuncion_4_muestra.to_parquet('funcion_4_muestra.parquet', index=True)\\nfuncion_5_muestra.to_parquet('funcion_5_muestra.parquet', index=True)\\n\""
      ]
     },
     "execution_count": 54,
     "metadata": {},
     "output_type": "execute_result"
    }
   ],
   "source": [
    "'''\n",
    "funcion_1_muestra.to_parquet('funcion_1_muestra.parquet', index=True)\n",
    "funcion_2_muestra.to_parquet('funcion_2_muestra.parquet', index=True)\n",
    "funcion_3_muestra.to_parquet('funcion_3_muestra.parquet', index=True)\n",
    "funcion_4_muestra.to_parquet('funcion_4_muestra.parquet', index=True)\n",
    "funcion_5_muestra.to_parquet('funcion_5_muestra.parquet', index=True)\n",
    "'''"
   ]
  },
  {
   "cell_type": "code",
   "execution_count": 55,
   "metadata": {},
   "outputs": [
    {
     "data": {
      "text/plain": [
       "\"\\ndf_reviews_limpio.to_csv('df_reviews_limpio.csv', index=True)\\ndf_items_limpio.to_csv('df_items_limpio.csv', index=True)\\ngenres_desanidado.to_csv('genres_desanidado.csv', index=True)\\n\""
      ]
     },
     "execution_count": 55,
     "metadata": {},
     "output_type": "execute_result"
    }
   ],
   "source": [
    "'''\n",
    "df_reviews_limpio.to_csv('df_reviews_limpio.csv', index=True)\n",
    "df_items_limpio.to_csv('df_items_limpio.csv', index=True)\n",
    "genres_desanidado.to_csv('genres_desanidado.csv', index=True)\n",
    "'''"
   ]
  }
 ],
 "metadata": {
  "kernelspec": {
   "display_name": "Python 3",
   "language": "python",
   "name": "python3"
  },
  "language_info": {
   "codemirror_mode": {
    "name": "ipython",
    "version": 3
   },
   "file_extension": ".py",
   "mimetype": "text/x-python",
   "name": "python",
   "nbconvert_exporter": "python",
   "pygments_lexer": "ipython3",
   "version": "3.11.6"
  }
 },
 "nbformat": 4,
 "nbformat_minor": 2
}
